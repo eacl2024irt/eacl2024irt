{
 "cells": [
  {
   "attachments": {},
   "cell_type": "markdown",
   "metadata": {},
   "source": [
    "# Intro to IRT\n",
    "\n",
    "In this notebook, we will give you an intro to IRT.\n",
    "We will cover:\n",
    "\n",
    "* The data format py-irt uses\n",
    "* Using off the shelf models from py-irt\n",
    "* Implementing your own model"
   ]
  },
  {
   "cell_type": "code",
   "execution_count": 1,
   "metadata": {},
   "outputs": [],
   "source": [
    "import sys\n",
    "import numpy as np\n",
    "from pydantic import BaseModel\n",
    "\n",
    "# Add py-irt if using git cloned version\n",
    "# sys.path.append(\"/data/home/par/code/py-irt\")"
   ]
  },
  {
   "attachments": {},
   "cell_type": "markdown",
   "metadata": {},
   "source": [
    "# Assumptions\n",
    "\n",
    "* Subjects\n",
    "    * Subjects will have a randomly drawn skill\n",
    "    * 10 Subjects\n",
    "* Items\n",
    "    * Each item has a difficulty that we will randomly draw\n",
    "    * Each item will be valid at `validity_rate` rate, and invalid otherwise\n",
    "    * 1,000 Items\n",
    "* Responses (correctness of subject responses to items)\n",
    "    * If the item is valid: Determine randomly according to IRT equation\n",
    "    * If invalid: flip a fair coin\n"
   ]
  },
  {
   "cell_type": "code",
   "execution_count": 2,
   "metadata": {},
   "outputs": [],
   "source": [
    "class Item(BaseModel):\n",
    "    valid: bool\n",
    "    difficulty: float\n",
    "    item_id: str\n",
    "    category: str = 'all'\n",
    "\n",
    "class Subject(BaseModel):\n",
    "    subject_id: str\n",
    "    skill: float\n",
    "\n",
    "min_diff = -4\n",
    "max_diff = 4\n",
    "validity_rate = .9\n",
    "def create_item(item_id: str, category: str):\n",
    "    validity = np.random.uniform()\n",
    "    if validity > validity_rate:\n",
    "        valid = 0\n",
    "    else:\n",
    "        valid = 1\n",
    "    return Item(item_id=item_id, valid=valid, difficulty=np.random.uniform(low=min_diff, high=max_diff), category=category)\n",
    "\n",
    "\n",
    "max_skill = 4\n",
    "min_skill = -4\n",
    "\n",
    "def create_subject(subject_id: str):\n",
    "    return Subject(subject_id=subject_id, skill=np.random.uniform(low=min_skill, high=max_skill))"
   ]
  },
  {
   "cell_type": "code",
   "execution_count": 3,
   "metadata": {},
   "outputs": [],
   "source": [
    "items = [create_item(f'item_{idx}', 'all') for idx in range(1_000)]\n",
    "subjects = [create_subject(f'subject_{idx}') for idx in range(10)]"
   ]
  },
  {
   "attachments": {},
   "cell_type": "markdown",
   "metadata": {},
   "source": [
    "# Exporting to py-irt Jsonlines format\n",
    "\n",
    "So that we can use the built-in py-irt data loader, we will write this dataset to jsonlines.\n",
    "The format is:\n",
    "- Valid Line: `\"subject_id\": \"<subject_id>\", \"responses\": {\"<item_id>\": <response>}}`\n",
    "- Responses are 1 or 0.\n",
    "- Note, responses is a dictionary and it does not need to be complete."
   ]
  },
  {
   "cell_type": "code",
   "execution_count": 4,
   "metadata": {},
   "outputs": [
    {
     "name": "stdout",
     "output_type": "stream",
     "text": [
      "Writing dataset with\n",
      "N Subjects 10\n",
      "N Items 1000\n"
     ]
    }
   ],
   "source": [
    "\n",
    "# We'll do a quick export to json to make reading the dataset easier. From the docs:\n",
    "# Each row looks like this:\n",
    "# {\"subject_id\": \"<subject_id>\", \"responses\": {\"<item_id>\": <response>}}\n",
    "import random\n",
    "from py_irt.io import write_jsonlines\n",
    "from py_irt.dataset import Dataset\n",
    "\n",
    "def write_irt_dataset(subjects: list[Subject], items: list[Item], path: str):\n",
    "    print(\"Writing dataset with\")\n",
    "    print(\"N Subjects\", len(subjects))\n",
    "    print(\"N Items\", len(items))\n",
    "    rows = []\n",
    "    score_by_subject = {}\n",
    "    lookup = {}\n",
    "    for subject in subjects:\n",
    "        responses = {}\n",
    "        correct = 0\n",
    "        total = 0\n",
    "        for item in items:\n",
    "            if item.valid:\n",
    "                responses[item.item_id] = int(1 / (1 + np.exp(-(subject.skill - item.difficulty))) > random.random())\n",
    "            else:\n",
    "                responses[item.item_id] = int(random.random() > .5)\n",
    "            correct += responses[item.item_id]\n",
    "            total += 1\n",
    "        score_by_subject[subject.subject_id] = correct / total\n",
    "        lookup[subject.subject_id] = responses\n",
    "        rows.append({\"subject_id\": subject.subject_id, \"responses\": responses})\n",
    "\n",
    "    write_jsonlines(path, rows)\n",
    "    return score_by_subject, lookup\n",
    "score_by_subject, subject_responses = write_irt_dataset(subjects, items, '/tmp/irt_dataset_section_2.jsonlines')"
   ]
  },
  {
   "attachments": {},
   "cell_type": "markdown",
   "metadata": {},
   "source": [
    "# Reading data in py-irt and Training a model\n",
    "\n",
    "Next, we will:\n",
    "\n",
    "* Read this dataset in py-irt\n",
    "* Create a basic config\n",
    "* Train a simple 1PL model\n",
    "\n",
    "Afterwards, we will:\n",
    "* Dig into the py-irt model definition and adapt it to work for 2PL"
   ]
  },
  {
   "cell_type": "code",
   "execution_count": 5,
   "metadata": {},
   "outputs": [
    {
     "data": {
      "text/html": [
       "<pre style=\"white-space:pre;overflow-x:auto;line-height:normal;font-family:Menlo,'DejaVu Sans Mono',consolas,'Courier New',monospace\"><span style=\"color: #7fbfbf; text-decoration-color: #7fbfbf\">[18:04:58] </span>amortized: <span style=\"color: #ff0000; text-decoration-color: #ff0000; font-style: italic\">False</span>                                                                          <a href=\"file:///data/home/par/code/py-irt/py_irt/dataset.py\" target=\"_blank\"><span style=\"color: #7f7f7f; text-decoration-color: #7f7f7f\">dataset.py</span></a><span style=\"color: #7f7f7f; text-decoration-color: #7f7f7f\">:</span><a href=\"file:///data/home/par/code/py-irt/py_irt/dataset.py#112\" target=\"_blank\"><span style=\"color: #7f7f7f; text-decoration-color: #7f7f7f\">112</span></a>\n",
       "</pre>\n"
      ],
      "text/plain": [
       "\u001b[2;36m[18:04:58]\u001b[0m\u001b[2;36m \u001b[0mamortized: \u001b[3;91mFalse\u001b[0m                                                                          \u001b]8;id=224036;file:///data/home/par/code/py-irt/py_irt/dataset.py\u001b\\\u001b[2mdataset.py\u001b[0m\u001b]8;;\u001b\\\u001b[2m:\u001b[0m\u001b]8;id=692506;file:///data/home/par/code/py-irt/py_irt/dataset.py#112\u001b\\\u001b[2m112\u001b[0m\u001b]8;;\u001b\\\n"
      ]
     },
     "metadata": {},
     "output_type": "display_data"
    }
   ],
   "source": [
    "from py_irt.dataset import Dataset\n",
    "\n",
    "dataset = Dataset.from_jsonlines(\"/tmp/irt_dataset_section_2.jsonlines\")"
   ]
  },
  {
   "cell_type": "code",
   "execution_count": 5,
   "metadata": {},
   "outputs": [
    {
     "data": {
      "text/html": [
       "<pre style=\"white-space:pre;overflow-x:auto;line-height:normal;font-family:Menlo,'DejaVu Sans Mono',consolas,'Courier New',monospace\"><span style=\"color: #7fbfbf; text-decoration-color: #7fbfbf\">[16:43:19] </span>amortized: <span style=\"color: #ff0000; text-decoration-color: #ff0000; font-style: italic\">False</span>                                                                          <a href=\"file:///data/home/par/code/py-irt/py_irt/dataset.py\" target=\"_blank\"><span style=\"color: #7f7f7f; text-decoration-color: #7f7f7f\">dataset.py</span></a><span style=\"color: #7f7f7f; text-decoration-color: #7f7f7f\">:</span><a href=\"file:///data/home/par/code/py-irt/py_irt/dataset.py#112\" target=\"_blank\"><span style=\"color: #7f7f7f; text-decoration-color: #7f7f7f\">112</span></a>\n",
       "</pre>\n"
      ],
      "text/plain": [
       "\u001b[2;36m[16:43:19]\u001b[0m\u001b[2;36m \u001b[0mamortized: \u001b[3;91mFalse\u001b[0m                                                                          \u001b]8;id=800598;file:///data/home/par/code/py-irt/py_irt/dataset.py\u001b\\\u001b[2mdataset.py\u001b[0m\u001b]8;;\u001b\\\u001b[2m:\u001b[0m\u001b]8;id=493125;file:///data/home/par/code/py-irt/py_irt/dataset.py#112\u001b\\\u001b[2m112\u001b[0m\u001b]8;;\u001b\\\n"
      ]
     },
     "metadata": {},
     "output_type": "display_data"
    },
    {
     "data": {
      "text/html": [
       "<pre style=\"white-space:pre;overflow-x:auto;line-height:normal;font-family:Menlo,'DejaVu Sans Mono',consolas,'Courier New',monospace\"><span style=\"color: #7fbfbf; text-decoration-color: #7fbfbf\">[16:43:19] </span>Vocab size: <span style=\"color: #800080; text-decoration-color: #800080; font-style: italic\">None</span>                                                                          <a href=\"file:///data/home/par/code/py-irt/py_irt/training.py\" target=\"_blank\"><span style=\"color: #7f7f7f; text-decoration-color: #7f7f7f\">training.py</span></a><span style=\"color: #7f7f7f; text-decoration-color: #7f7f7f\">:</span><a href=\"file:///data/home/par/code/py-irt/py_irt/training.py#90\" target=\"_blank\"><span style=\"color: #7f7f7f; text-decoration-color: #7f7f7f\">90</span></a>\n",
       "</pre>\n"
      ],
      "text/plain": [
       "\u001b[2;36m[16:43:19]\u001b[0m\u001b[2;36m \u001b[0mVocab size: \u001b[3;35mNone\u001b[0m                                                                          \u001b]8;id=668016;file:///data/home/par/code/py-irt/py_irt/training.py\u001b\\\u001b[2mtraining.py\u001b[0m\u001b]8;;\u001b\\\u001b[2m:\u001b[0m\u001b]8;id=550119;file:///data/home/par/code/py-irt/py_irt/training.py#90\u001b\\\u001b[2m90\u001b[0m\u001b]8;;\u001b\\\n"
      ]
     },
     "metadata": {},
     "output_type": "display_data"
    },
    {
     "data": {
      "text/html": [
       "<pre style=\"white-space:pre;overflow-x:auto;line-height:normal;font-family:Menlo,'DejaVu Sans Mono',consolas,'Courier New',monospace\"><span style=\"color: #7fbfbf; text-decoration-color: #7fbfbf\">           </span>args: <span style=\"font-weight: bold\">{</span><span style=\"color: #008000; text-decoration-color: #008000\">'device'</span>: <span style=\"color: #008000; text-decoration-color: #008000\">'cuda'</span>, <span style=\"color: #008000; text-decoration-color: #008000\">'num_items'</span>: <span style=\"color: #008080; text-decoration-color: #008080; font-weight: bold\">1000</span>, <span style=\"color: #008000; text-decoration-color: #008000\">'num_subjects'</span>: <span style=\"color: #008080; text-decoration-color: #008080; font-weight: bold\">10</span><span style=\"font-weight: bold\">}</span>                          <a href=\"file:///data/home/par/code/py-irt/py_irt/training.py\" target=\"_blank\"><span style=\"color: #7f7f7f; text-decoration-color: #7f7f7f\">training.py</span></a><span style=\"color: #7f7f7f; text-decoration-color: #7f7f7f\">:</span><a href=\"file:///data/home/par/code/py-irt/py_irt/training.py#134\" target=\"_blank\"><span style=\"color: #7f7f7f; text-decoration-color: #7f7f7f\">134</span></a>\n",
       "</pre>\n"
      ],
      "text/plain": [
       "\u001b[2;36m          \u001b[0m\u001b[2;36m \u001b[0margs: \u001b[1m{\u001b[0m\u001b[32m'device'\u001b[0m: \u001b[32m'cuda'\u001b[0m, \u001b[32m'num_items'\u001b[0m: \u001b[1;36m1000\u001b[0m, \u001b[32m'num_subjects'\u001b[0m: \u001b[1;36m10\u001b[0m\u001b[1m}\u001b[0m                          \u001b]8;id=265960;file:///data/home/par/code/py-irt/py_irt/training.py\u001b\\\u001b[2mtraining.py\u001b[0m\u001b]8;;\u001b\\\u001b[2m:\u001b[0m\u001b]8;id=725383;file:///data/home/par/code/py-irt/py_irt/training.py#134\u001b\\\u001b[2m134\u001b[0m\u001b]8;;\u001b\\\n"
      ]
     },
     "metadata": {},
     "output_type": "display_data"
    },
    {
     "data": {
      "text/html": [
       "<pre style=\"white-space:pre;overflow-x:auto;line-height:normal;font-family:Menlo,'DejaVu Sans Mono',consolas,'Courier New',monospace\"><span style=\"color: #7fbfbf; text-decoration-color: #7fbfbf\">           </span>Parsed Model Args: <span style=\"font-weight: bold\">{</span><span style=\"color: #008000; text-decoration-color: #008000\">'device'</span>: <span style=\"color: #008000; text-decoration-color: #008000\">'cuda'</span>, <span style=\"color: #008000; text-decoration-color: #008000\">'num_items'</span>: <span style=\"color: #008080; text-decoration-color: #008080; font-weight: bold\">1000</span>, <span style=\"color: #008000; text-decoration-color: #008000\">'num_subjects'</span>: <span style=\"color: #008080; text-decoration-color: #008080; font-weight: bold\">10</span>, <span style=\"color: #008000; text-decoration-color: #008000\">'priors'</span>:   <a href=\"file:///data/home/par/code/py-irt/py_irt/training.py\" target=\"_blank\"><span style=\"color: #7f7f7f; text-decoration-color: #7f7f7f\">training.py</span></a><span style=\"color: #7f7f7f; text-decoration-color: #7f7f7f\">:</span><a href=\"file:///data/home/par/code/py-irt/py_irt/training.py#147\" target=\"_blank\"><span style=\"color: #7f7f7f; text-decoration-color: #7f7f7f\">147</span></a>\n",
       "<span style=\"color: #7fbfbf; text-decoration-color: #7fbfbf\">           </span><span style=\"color: #008000; text-decoration-color: #008000\">'vague'</span>, <span style=\"color: #008000; text-decoration-color: #008000\">'dropout'</span>: <span style=\"color: #008080; text-decoration-color: #008080; font-weight: bold\">0.2</span>, <span style=\"color: #008000; text-decoration-color: #008000\">'hidden'</span>: <span style=\"color: #008080; text-decoration-color: #008080; font-weight: bold\">100</span>, <span style=\"color: #008000; text-decoration-color: #008000\">'vocab_size'</span>: <span style=\"color: #800080; text-decoration-color: #800080; font-style: italic\">None</span><span style=\"font-weight: bold\">}</span>                              <span style=\"color: #7f7f7f; text-decoration-color: #7f7f7f\">               </span>\n",
       "</pre>\n"
      ],
      "text/plain": [
       "\u001b[2;36m          \u001b[0m\u001b[2;36m \u001b[0mParsed Model Args: \u001b[1m{\u001b[0m\u001b[32m'device'\u001b[0m: \u001b[32m'cuda'\u001b[0m, \u001b[32m'num_items'\u001b[0m: \u001b[1;36m1000\u001b[0m, \u001b[32m'num_subjects'\u001b[0m: \u001b[1;36m10\u001b[0m, \u001b[32m'priors'\u001b[0m:   \u001b]8;id=124243;file:///data/home/par/code/py-irt/py_irt/training.py\u001b\\\u001b[2mtraining.py\u001b[0m\u001b]8;;\u001b\\\u001b[2m:\u001b[0m\u001b]8;id=756558;file:///data/home/par/code/py-irt/py_irt/training.py#147\u001b\\\u001b[2m147\u001b[0m\u001b]8;;\u001b\\\n",
       "\u001b[2;36m           \u001b[0m\u001b[32m'vague'\u001b[0m, \u001b[32m'dropout'\u001b[0m: \u001b[1;36m0.2\u001b[0m, \u001b[32m'hidden'\u001b[0m: \u001b[1;36m100\u001b[0m, \u001b[32m'vocab_size'\u001b[0m: \u001b[3;35mNone\u001b[0m\u001b[1m}\u001b[0m                              \u001b[2m               \u001b[0m\n"
      ]
     },
     "metadata": {},
     "output_type": "display_data"
    },
    {
     "data": {
      "application/vnd.jupyter.widget-view+json": {
       "model_id": "9990ce709d684d57b1d2584d576fd616",
       "version_major": 2,
       "version_minor": 0
      },
      "text/plain": [
       "Output()"
      ]
     },
     "metadata": {},
     "output_type": "display_data"
    },
    {
     "data": {
      "text/html": [
       "<pre style=\"white-space:pre;overflow-x:auto;line-height:normal;font-family:Menlo,'DejaVu Sans Mono',consolas,'Courier New',monospace\">Training Pyro IRT Model for <span style=\"color: #008080; text-decoration-color: #008080; font-weight: bold\">5000</span> epochs\n",
       "</pre>\n"
      ],
      "text/plain": [
       "Training Pyro IRT Model for \u001b[1;36m5000\u001b[0m epochs\n"
      ]
     },
     "metadata": {},
     "output_type": "display_data"
    },
    {
     "name": "stdout",
     "output_type": "stream",
     "text": [
      "torch.Size([10000]) torch.Size([10000])\n"
     ]
    },
    {
     "data": {
      "text/html": [
       "<pre style=\"white-space:pre;overflow-x:auto;line-height:normal;font-family:Menlo,'DejaVu Sans Mono',consolas,'Courier New',monospace\"></pre>\n"
      ],
      "text/plain": []
     },
     "metadata": {},
     "output_type": "display_data"
    }
   ],
   "source": [
    "from py_irt.config import IrtConfig\n",
    "from py_irt.training import IrtModelTrainer\n",
    "\n",
    "config = IrtConfig(model_type='1pl', log_every=500, dropout=.2)\n",
    "trainer = IrtModelTrainer(config=config, data_path=None, dataset=dataset)\n",
    "trainer.train(epochs=5000, device='cuda')"
   ]
  },
  {
   "cell_type": "code",
   "execution_count": 6,
   "metadata": {},
   "outputs": [
    {
     "name": "stdout",
     "output_type": "stream",
     "text": [
      "subject_8 Real Skill -3.884467092477161 Inferred Skill -3.346115827560425 Acc 0.127\n",
      "subject_3 Real Skill -2.4092903253582962 Inferred Skill -2.1541693210601807 Acc 0.226\n",
      "subject_2 Real Skill -2.1774244939456846 Inferred Skill -1.9487590789794922 Acc 0.26\n",
      "subject_5 Real Skill -2.1411686953088873 Inferred Skill -1.7273616790771484 Acc 0.288\n",
      "subject_0 Real Skill -1.2458803146590771 Inferred Skill -0.6864756345748901 Acc 0.387\n",
      "subject_9 Real Skill 0.08445832670945386 Inferred Skill 0.10757223516702652 Acc 0.506\n",
      "subject_4 Real Skill 0.6030642924177165 Inferred Skill 0.5390836000442505 Acc 0.556\n",
      "subject_1 Real Skill 2.0165246707222027 Inferred Skill 1.9551409482955933 Acc 0.708\n",
      "subject_6 Real Skill 3.2611789714609936 Inferred Skill 3.055710554122925 Acc 0.816\n",
      "subject_7 Real Skill 3.3842764622290247 Inferred Skill 3.1915154457092285 Acc 0.822\n"
     ]
    }
   ],
   "source": [
    "# Next we can compare: Actual skill, inferred skill, and accuracy\n",
    "for subject, skill, acc in sorted(list(zip(subjects, trainer.last_params['ability'], score_by_subject.values())), key=lambda v: v[0].skill):\n",
    "    print(subject.subject_id, \"Real Skill\", subject.skill, \"Inferred Skill\", skill, \"Acc\", acc)"
   ]
  },
  {
   "cell_type": "code",
   "execution_count": 7,
   "metadata": {},
   "outputs": [
    {
     "name": "stdout",
     "output_type": "stream",
     "text": [
      "-3.990418584245244 -3.9722235202789307\n",
      "-2.6011726771435217 -0.31765908002853394\n",
      "-2.0620805079999878 -1.6781026124954224\n",
      "-2.0136971311869223 -3.920189380645752\n",
      "-1.3044214045970879 -0.9731835126876831\n",
      "-1.2403805966596124 -1.7017406225204468\n",
      "-0.4605605330027691 -0.06663890182971954\n",
      "-0.22063079854633472 -0.09359151124954224\n",
      "0.1587640996540305 0.40942835807800293\n",
      "0.5606946449544852 0.2367488145828247\n",
      "1.0069018644358296 -1.8538750410079956\n",
      "1.1559239117148525 -1.6636019945144653\n",
      "1.1776646088154727 1.5613257884979248\n",
      "1.6586750877950083 2.6625564098358154\n",
      "2.2038272056877064 1.1499176025390625\n",
      "2.265316853736441 -0.1889083981513977\n",
      "2.872176916289317 3.8063602447509766\n",
      "3.86651072108923 3.609407663345337\n",
      "3.895528635928546 2.5975146293640137\n",
      "3.9071289046765534 32.72386169433594\n"
     ]
    }
   ],
   "source": [
    "for item, diff in sorted(list(zip(items, trainer.last_params[\"diff\"]))[:20], key=lambda v: v[0].difficulty):\n",
    "    print(item.difficulty, diff)"
   ]
  },
  {
   "attachments": {},
   "cell_type": "markdown",
   "metadata": {},
   "source": []
  },
  {
   "attachments": {},
   "cell_type": "markdown",
   "metadata": {},
   "source": [
    "# Defining and modifying our own model\n",
    "\n",
    "In the previous example, we used a off-the-shelf model, but it is not too difficult to modify an existing model. In general, model definitions will have:\n",
    "- A model: This represents our generative story, i.e P(Z|X)\n",
    "- A guide: This represents the approximating distribution, Q(Z)\n",
    "- Helper functions (e.g., fit, export, etc)\n",
    "\n",
    "If we look at the non-commented code, we will see:\n",
    "1. `observe_data`: represents the IRT equation\n",
    "2. There are two levels of sampling statements:\n",
    "    1. The draw of IRT parameters from a distribution\n",
    "    2. The draw of parameters of that distribution\n",
    "\n",
    "So to add a new variable, for example discriminability, we will need to:\n",
    "1. In the model, add sampling statements for the priors\n",
    "2. In the model, add sampling statement for discrimability\n",
    "3. Incorporate the variable in the `observe_data` statement\n",
    "4. In the guide, make parallel changes.\n",
    "\n",
    "As for what distribution to use, we'll make a slight change and keep discriminability non-negative by instead of drawing `disc~Normal`, we'll have `log disc ~ Normal` which is equivalent to `disc ~ LogNormal`."
   ]
  },
  {
   "cell_type": "code",
   "execution_count": 10,
   "metadata": {},
   "outputs": [],
   "source": [
    "# Copied from tutorial_section_2_start.py\n",
    "from py_irt.models import abstract_model\n",
    "import pyro\n",
    "import pyro.distributions as dist\n",
    "import torch\n",
    "\n",
    "import torch.distributions.constraints as constraints\n",
    "\n",
    "from pyro.infer import SVI, Trace_ELBO, EmpiricalMarginal\n",
    "from pyro.optim import Adam\n",
    "\n",
    "import pandas as pd\n",
    "\n",
    "from functools import partial\n",
    "\n",
    "import numpy as np\n",
    "\n",
    "\n",
    "class TutorialSection2Model(abstract_model.IrtModel):\n",
    "    \"\"\"1PL IRT model\"\"\"\n",
    "\n",
    "    def __init__(\n",
    "        self,\n",
    "        *,\n",
    "        priors: str,\n",
    "        num_items: int,\n",
    "        num_subjects: int,\n",
    "        verbose: bool = False,\n",
    "        device: str = \"cpu\",\n",
    "        vocab_size: int = None,\n",
    "        dropout: float = None,\n",
    "        hidden: int = None,\n",
    "        **kwargs,\n",
    "    ):\n",
    "        super().__init__(\n",
    "            device=device,\n",
    "            num_items=num_items,\n",
    "            num_subjects=num_subjects,\n",
    "            verbose=verbose,\n",
    "        )\n",
    "\n",
    "    def model_hierarchical(self, models, items, obs):\n",
    "        mu_b = pyro.sample(\n",
    "            \"mu_b\",\n",
    "            dist.Normal(\n",
    "                torch.tensor(0.0, device=self.device),\n",
    "                torch.tensor(1.0e6, device=self.device),\n",
    "            ),\n",
    "        )\n",
    "        u_b = pyro.sample(\n",
    "            \"u_b\",\n",
    "            dist.Gamma(\n",
    "                torch.tensor(1.0, device=self.device),\n",
    "                torch.tensor(1.0, device=self.device),\n",
    "            ),\n",
    "        )\n",
    "        mu_theta = pyro.sample(\n",
    "            \"mu_theta\",\n",
    "            dist.Normal(\n",
    "                torch.tensor(0.0, device=self.device),\n",
    "                torch.tensor(1.0e6, device=self.device),\n",
    "            ),\n",
    "        )\n",
    "        u_theta = pyro.sample(\n",
    "            \"u_theta\",\n",
    "            dist.Gamma(\n",
    "                torch.tensor(1.0, device=self.device),\n",
    "                torch.tensor(1.0, device=self.device),\n",
    "            ),\n",
    "        )\n",
    "######################################################################\n",
    "        # START: NEW CODE\n",
    "        mu_gamma = pyro.sample(\n",
    "            \"mu_gamma\",\n",
    "            dist.Normal(\n",
    "                torch.tensor(0.0, device=self.device),\n",
    "                torch.tensor(1.0e6, device=self.device)\n",
    "            )\n",
    "        )\n",
    "        u_gamma = pyro.sample(\n",
    "            \"u_gamma\",\n",
    "            dist.Gamma(\n",
    "                torch.tensor(1.0, device=self.device),\n",
    "                torch.tensor(1.0, device=self.device),\n",
    "            )\n",
    "        )\n",
    "        with pyro.plate(\"gammas\", self.num_items, device=self.device):\n",
    "            disc = pyro.sample(\"gamma\", dist.LogNormal(mu_gamma, 1 / u_gamma))\n",
    "        # END: NEW CODE\n",
    "######################################################################\n",
    "        with pyro.plate(\"thetas\", self.num_subjects, device=self.device):\n",
    "            ability = pyro.sample(\"theta\", dist.Normal(mu_theta, 1.0 / u_theta))\n",
    "        with pyro.plate(\"bs\", self.num_items, device=self.device):\n",
    "            diff = pyro.sample(\"b\", dist.Normal(mu_b, 1.0 / u_b))\n",
    "        with pyro.plate(\"observe_data\", obs.size(0)):\n",
    "            pyro.sample(\n",
    "                \"obs\",\n",
    "\n",
    "################# New Sampling statement ##################\n",
    "                dist.Bernoulli(logits=disc[items] * (ability[models] - diff[items])), obs=obs\n",
    "################## Original statement ####################\n",
    "                #dist.Bernoulli(logits=ability[models] - diff[items]), obs=obs\n",
    "            )\n",
    "\n",
    "    def guide_hierarchical(self, models, items, obs):\n",
    "        loc_mu_b_param = pyro.param(\"loc_mu_b\", torch.tensor(0.0, device=self.device))\n",
    "        scale_mu_b_param = pyro.param(\n",
    "            \"scale_mu_b\",\n",
    "            torch.tensor(1.0e2, device=self.device),\n",
    "            constraint=constraints.positive,\n",
    "        )\n",
    "        loc_mu_theta_param = pyro.param(\n",
    "            \"loc_mu_theta\", torch.tensor(0.0, device=self.device)\n",
    "        )\n",
    "        scale_mu_theta_param = pyro.param(\n",
    "            \"scale_mu_theta\",\n",
    "            torch.tensor(1.0e2, device=self.device),\n",
    "            constraint=constraints.positive,\n",
    "        )\n",
    "        alpha_b_param = pyro.param(\n",
    "            \"alpha_b\",\n",
    "            torch.tensor(1.0, device=self.device),\n",
    "            constraint=constraints.positive,\n",
    "        )\n",
    "        beta_b_param = pyro.param(\n",
    "            \"beta_b\",\n",
    "            torch.tensor(1.0, device=self.device),\n",
    "            constraint=constraints.positive,\n",
    "        )\n",
    "        alpha_theta_param = pyro.param(\n",
    "            \"alpha_theta\",\n",
    "            torch.tensor(1.0, device=self.device),\n",
    "            constraint=constraints.positive,\n",
    "        )\n",
    "        beta_theta_param = pyro.param(\n",
    "            \"beta_theta\",\n",
    "            torch.tensor(1.0, device=self.device),\n",
    "            constraint=constraints.positive,\n",
    "        )\n",
    "        m_theta_param = pyro.param(\n",
    "            \"loc_ability\", torch.zeros(self.num_subjects, device=self.device)\n",
    "        )\n",
    "        s_theta_param = pyro.param(\n",
    "            \"scale_ability\",\n",
    "            torch.ones(self.num_subjects, device=self.device),\n",
    "            constraint=constraints.positive,\n",
    "        )\n",
    "        m_b_param = pyro.param(\n",
    "            \"loc_diff\", torch.zeros(self.num_items, device=self.device)\n",
    "        )\n",
    "        s_b_param = pyro.param(\n",
    "            \"scale_diff\",\n",
    "            torch.ones(self.num_items, device=self.device),\n",
    "            constraint=constraints.positive,\n",
    "        )\n",
    "\n",
    "######### New parameters for disc ################\n",
    "        loc_mu_gamma_param = pyro.param(\n",
    "            \"loc_mu_gamma\", torch.tensor(0.0, device=self.device)\n",
    "        )\n",
    "        scale_mu_gamma_param = pyro.param(\n",
    "            \"scale_mu_gamma\",\n",
    "            torch.tensor(1.0e2, device=self.device),\n",
    "            constraint=constraints.positive,\n",
    "        )\n",
    "        alpha_gamma_param = pyro.param(\n",
    "            \"alpha_gamma\",\n",
    "            torch.tensor(1.0, device=self.device),\n",
    "            constraint=constraints.positive,\n",
    "        )\n",
    "        beta_gamma_param = pyro.param(\n",
    "            \"beta_gamma\",\n",
    "            torch.tensor(1.0, device=self.device),\n",
    "            constraint=constraints.positive,\n",
    "        )\n",
    "        m_gamma_param = pyro.param(\"loc_disc\", torch.zeros(self.num_items, device=self.device))\n",
    "        s_gamma_param = pyro.param(\"scale_disc\", torch.ones(self.num_items, device=self.device), constraint=constraints.positive)\n",
    "\n",
    "\n",
    "        # sample statements\n",
    "        pyro.sample(\"mu_b\", dist.Normal(loc_mu_b_param, scale_mu_b_param))\n",
    "        pyro.sample(\"u_b\", dist.Gamma(alpha_b_param, beta_b_param))\n",
    "        pyro.sample(\"mu_theta\", dist.Normal(loc_mu_theta_param, scale_mu_theta_param))\n",
    "        pyro.sample(\"u_theta\", dist.Gamma(alpha_theta_param, beta_theta_param))\n",
    "        # New Sampling\n",
    "        # Prior sampling\n",
    "        pyro.sample(\"mu_gamma\", dist.Normal(loc_mu_gamma_param, scale_mu_gamma_param))\n",
    "        pyro.sample(\"u_gamma\", dist.Gamma(alpha_gamma_param, beta_gamma_param))\n",
    "        # Paramter sampling\n",
    "        with pyro.plate(\"gammas\", self.num_items, device=self.device):\n",
    "            pyro.sample(\"gamma\", dist.LogNormal(m_gamma_param, s_gamma_param))\n",
    "\n",
    "        with pyro.plate(\"thetas\", self.num_subjects, device=self.device):\n",
    "            pyro.sample(\"theta\", dist.Normal(m_theta_param, s_theta_param))\n",
    "        with pyro.plate(\"bs\", self.num_items, device=self.device):\n",
    "            pyro.sample(\"b\", dist.Normal(m_b_param, s_b_param))\n",
    "\n",
    "    def get_model(self):\n",
    "        return self.model_hierarchical\n",
    "\n",
    "    def get_guide(self):\n",
    "        return self.guide_hierarchical\n",
    "\n",
    "    def fit(self, models, items, responses, num_epochs):\n",
    "        \"\"\"Fit the IRT model with variational inference\"\"\"\n",
    "        optim = Adam({\"lr\": 0.1})\n",
    "        svi = SVI(\n",
    "            self.model_hierarchical,\n",
    "            self.guide_hierarchical,\n",
    "            optim,\n",
    "            loss=Trace_ELBO(),\n",
    "        )\n",
    "\n",
    "        pyro.clear_param_store()\n",
    "        for j in range(num_epochs):\n",
    "            loss = svi.step(models, items, responses)\n",
    "            if j % 100 == 0 and self.verbose:\n",
    "                print(\"[epoch %04d] loss: %.4f\" % (j + 1, loss))\n",
    "\n",
    "        print(\"[epoch %04d] loss: %.4f\" % (j + 1, loss))\n",
    "        values = [\"loc_diff\", \"scale_diff\", \"loc_ability\", \"scale_ability\"]\n",
    "\n",
    "    def export(self):\n",
    "        return {\n",
    "            \"ability\": pyro.param(\"loc_ability\").data.tolist(),\n",
    "            \"diff\": pyro.param(\"loc_diff\").data.tolist(),\n",
    "            \"disc\": pyro.param(\"loc_disc\").data.tolist(),\n",
    "        }\n",
    "\n",
    "    def predict(self, subjects, items, params_from_file=None):\n",
    "        \"\"\"predict p(correct | params) for a specified list of model, item pairs\"\"\"\n",
    "        if params_from_file is not None:\n",
    "            model_params = params_from_file\n",
    "        else:\n",
    "            model_params = self.export()\n",
    "        abilities = np.array([model_params[\"ability\"][i] for i in subjects])\n",
    "        diffs = np.array([model_params[\"diff\"][i] for i in items])\n",
    "        discs = np.array([model_params[\"disc\"][i] for i in items])\n",
    "        return 1 / (1 + np.exp(-discs * (abilities - diffs)))\n",
    "\n",
    "    def summary(self, traces, sites):\n",
    "        \"\"\"Aggregate marginals for MCM\"\"\"\n",
    "        marginal = (\n",
    "            EmpiricalMarginal(traces, sites)\n",
    "            ._get_samples_and_weights()[0]\n",
    "            .detach()\n",
    "            .cpu()\n",
    "            .numpy()\n",
    "        )\n",
    "        print(marginal)\n",
    "        site_stats = {}\n",
    "        for i in range(marginal.shape[1]):\n",
    "            site_name = sites[i]\n",
    "            marginal_site = pd.DataFrame(marginal[:, i]).transpose()\n",
    "            describe = partial(\n",
    "                pd.Series.describe, percentiles=[0.05, 0.25, 0.5, 0.75, 0.95]\n",
    "            )\n",
    "            site_stats[site_name] = marginal_site.apply(describe, axis=1)[\n",
    "                [\"mean\", \"std\", \"5%\", \"25%\", \"50%\", \"75%\", \"95%\"]\n",
    "            ]\n",
    "        return site_stats\n"
   ]
  },
  {
   "cell_type": "code",
   "execution_count": 12,
   "metadata": {},
   "outputs": [
    {
     "data": {
      "text/html": [
       "<pre style=\"white-space:pre;overflow-x:auto;line-height:normal;font-family:Menlo,'DejaVu Sans Mono',consolas,'Courier New',monospace\"><span style=\"color: #7fbfbf; text-decoration-color: #7fbfbf\">[18:15:45] </span>Vocab size: <span style=\"color: #800080; text-decoration-color: #800080; font-style: italic\">None</span>                                                                          <a href=\"file:///data/home/par/code/py-irt/py_irt/training.py\" target=\"_blank\"><span style=\"color: #7f7f7f; text-decoration-color: #7f7f7f\">training.py</span></a><span style=\"color: #7f7f7f; text-decoration-color: #7f7f7f\">:</span><a href=\"file:///data/home/par/code/py-irt/py_irt/training.py#93\" target=\"_blank\"><span style=\"color: #7f7f7f; text-decoration-color: #7f7f7f\">93</span></a>\n",
       "</pre>\n"
      ],
      "text/plain": [
       "\u001b[2;36m[18:15:45]\u001b[0m\u001b[2;36m \u001b[0mVocab size: \u001b[3;35mNone\u001b[0m                                                                          \u001b]8;id=195461;file:///data/home/par/code/py-irt/py_irt/training.py\u001b\\\u001b[2mtraining.py\u001b[0m\u001b]8;;\u001b\\\u001b[2m:\u001b[0m\u001b]8;id=742881;file:///data/home/par/code/py-irt/py_irt/training.py#93\u001b\\\u001b[2m93\u001b[0m\u001b]8;;\u001b\\\n"
      ]
     },
     "metadata": {},
     "output_type": "display_data"
    },
    {
     "data": {
      "text/html": [
       "<pre style=\"white-space:pre;overflow-x:auto;line-height:normal;font-family:Menlo,'DejaVu Sans Mono',consolas,'Courier New',monospace\"><span style=\"color: #7fbfbf; text-decoration-color: #7fbfbf\">           </span>args: <span style=\"font-weight: bold\">{</span><span style=\"color: #008000; text-decoration-color: #008000\">'device'</span>: <span style=\"color: #008000; text-decoration-color: #008000\">'cuda'</span>, <span style=\"color: #008000; text-decoration-color: #008000\">'num_items'</span>: <span style=\"color: #008080; text-decoration-color: #008080; font-weight: bold\">1000</span>, <span style=\"color: #008000; text-decoration-color: #008000\">'num_subjects'</span>: <span style=\"color: #008080; text-decoration-color: #008080; font-weight: bold\">10</span><span style=\"font-weight: bold\">}</span>                          <a href=\"file:///data/home/par/code/py-irt/py_irt/training.py\" target=\"_blank\"><span style=\"color: #7f7f7f; text-decoration-color: #7f7f7f\">training.py</span></a><span style=\"color: #7f7f7f; text-decoration-color: #7f7f7f\">:</span><a href=\"file:///data/home/par/code/py-irt/py_irt/training.py#143\" target=\"_blank\"><span style=\"color: #7f7f7f; text-decoration-color: #7f7f7f\">143</span></a>\n",
       "</pre>\n"
      ],
      "text/plain": [
       "\u001b[2;36m          \u001b[0m\u001b[2;36m \u001b[0margs: \u001b[1m{\u001b[0m\u001b[32m'device'\u001b[0m: \u001b[32m'cuda'\u001b[0m, \u001b[32m'num_items'\u001b[0m: \u001b[1;36m1000\u001b[0m, \u001b[32m'num_subjects'\u001b[0m: \u001b[1;36m10\u001b[0m\u001b[1m}\u001b[0m                          \u001b]8;id=708118;file:///data/home/par/code/py-irt/py_irt/training.py\u001b\\\u001b[2mtraining.py\u001b[0m\u001b]8;;\u001b\\\u001b[2m:\u001b[0m\u001b]8;id=605413;file:///data/home/par/code/py-irt/py_irt/training.py#143\u001b\\\u001b[2m143\u001b[0m\u001b]8;;\u001b\\\n"
      ]
     },
     "metadata": {},
     "output_type": "display_data"
    },
    {
     "data": {
      "text/html": [
       "<pre style=\"white-space:pre;overflow-x:auto;line-height:normal;font-family:Menlo,'DejaVu Sans Mono',consolas,'Courier New',monospace\"><span style=\"color: #7fbfbf; text-decoration-color: #7fbfbf\">           </span>Parsed Model Args: <span style=\"font-weight: bold\">{</span><span style=\"color: #008000; text-decoration-color: #008000\">'device'</span>: <span style=\"color: #008000; text-decoration-color: #008000\">'cuda'</span>, <span style=\"color: #008000; text-decoration-color: #008000\">'num_items'</span>: <span style=\"color: #008080; text-decoration-color: #008080; font-weight: bold\">1000</span>, <span style=\"color: #008000; text-decoration-color: #008000\">'num_subjects'</span>: <span style=\"color: #008080; text-decoration-color: #008080; font-weight: bold\">10</span>, <span style=\"color: #008000; text-decoration-color: #008000\">'priors'</span>:   <a href=\"file:///data/home/par/code/py-irt/py_irt/training.py\" target=\"_blank\"><span style=\"color: #7f7f7f; text-decoration-color: #7f7f7f\">training.py</span></a><span style=\"color: #7f7f7f; text-decoration-color: #7f7f7f\">:</span><a href=\"file:///data/home/par/code/py-irt/py_irt/training.py#156\" target=\"_blank\"><span style=\"color: #7f7f7f; text-decoration-color: #7f7f7f\">156</span></a>\n",
       "<span style=\"color: #7fbfbf; text-decoration-color: #7fbfbf\">           </span><span style=\"color: #008000; text-decoration-color: #008000\">'vague'</span>, <span style=\"color: #008000; text-decoration-color: #008000\">'dropout'</span>: <span style=\"color: #008080; text-decoration-color: #008080; font-weight: bold\">0.2</span>, <span style=\"color: #008000; text-decoration-color: #008000\">'hidden'</span>: <span style=\"color: #008080; text-decoration-color: #008080; font-weight: bold\">100</span>, <span style=\"color: #008000; text-decoration-color: #008000\">'vocab_size'</span>: <span style=\"color: #800080; text-decoration-color: #800080; font-style: italic\">None</span><span style=\"font-weight: bold\">}</span>                              <span style=\"color: #7f7f7f; text-decoration-color: #7f7f7f\">               </span>\n",
       "</pre>\n"
      ],
      "text/plain": [
       "\u001b[2;36m          \u001b[0m\u001b[2;36m \u001b[0mParsed Model Args: \u001b[1m{\u001b[0m\u001b[32m'device'\u001b[0m: \u001b[32m'cuda'\u001b[0m, \u001b[32m'num_items'\u001b[0m: \u001b[1;36m1000\u001b[0m, \u001b[32m'num_subjects'\u001b[0m: \u001b[1;36m10\u001b[0m, \u001b[32m'priors'\u001b[0m:   \u001b]8;id=653844;file:///data/home/par/code/py-irt/py_irt/training.py\u001b\\\u001b[2mtraining.py\u001b[0m\u001b]8;;\u001b\\\u001b[2m:\u001b[0m\u001b]8;id=159817;file:///data/home/par/code/py-irt/py_irt/training.py#156\u001b\\\u001b[2m156\u001b[0m\u001b]8;;\u001b\\\n",
       "\u001b[2;36m           \u001b[0m\u001b[32m'vague'\u001b[0m, \u001b[32m'dropout'\u001b[0m: \u001b[1;36m0.2\u001b[0m, \u001b[32m'hidden'\u001b[0m: \u001b[1;36m100\u001b[0m, \u001b[32m'vocab_size'\u001b[0m: \u001b[3;35mNone\u001b[0m\u001b[1m}\u001b[0m                              \u001b[2m               \u001b[0m\n"
      ]
     },
     "metadata": {},
     "output_type": "display_data"
    },
    {
     "data": {
      "application/vnd.jupyter.widget-view+json": {
       "model_id": "3a400b2ea1764597b50be848930bb8f3",
       "version_major": 2,
       "version_minor": 0
      },
      "text/plain": [
       "Output()"
      ]
     },
     "metadata": {},
     "output_type": "display_data"
    },
    {
     "data": {
      "text/html": [
       "<pre style=\"white-space:pre;overflow-x:auto;line-height:normal;font-family:Menlo,'DejaVu Sans Mono',consolas,'Courier New',monospace\">Training Pyro IRT Model for <span style=\"color: #008080; text-decoration-color: #008080; font-weight: bold\">2000</span> epochs\n",
       "</pre>\n"
      ],
      "text/plain": [
       "Training Pyro IRT Model for \u001b[1;36m2000\u001b[0m epochs\n"
      ]
     },
     "metadata": {},
     "output_type": "display_data"
    },
    {
     "name": "stdout",
     "output_type": "stream",
     "text": [
      "torch.Size([10000]) torch.Size([10000])\n"
     ]
    },
    {
     "data": {
      "text/html": [
       "<pre style=\"white-space:pre;overflow-x:auto;line-height:normal;font-family:Menlo,'DejaVu Sans Mono',consolas,'Courier New',monospace\"></pre>\n"
      ],
      "text/plain": []
     },
     "metadata": {},
     "output_type": "display_data"
    }
   ],
   "source": [
    "from py_irt.config import IrtConfig\n",
    "from py_irt.training import IrtModelTrainer\n",
    "\n",
    "config = IrtConfig(model_type=TutorialSection2Model, log_every=500, dropout=.2)\n",
    "trainer = IrtModelTrainer(config=config, data_path=None, dataset=dataset)\n",
    "trainer.train(epochs=2000, device='cuda')"
   ]
  },
  {
   "cell_type": "code",
   "execution_count": 23,
   "metadata": {},
   "outputs": [
    {
     "data": {
      "image/svg+xml": [
       "<?xml version=\"1.0\" encoding=\"UTF-8\" standalone=\"no\"?>\n",
       "<!DOCTYPE svg PUBLIC \"-//W3C//DTD SVG 1.1//EN\"\n",
       " \"http://www.w3.org/Graphics/SVG/1.1/DTD/svg11.dtd\">\n",
       "<!-- Generated by graphviz version 2.43.0 (0)\n",
       " -->\n",
       "<!-- Title: %3 Pages: 1 -->\n",
       "<svg width=\"660pt\" height=\"238pt\"\n",
       " viewBox=\"0.00 0.00 660.24 238.00\" xmlns=\"http://www.w3.org/2000/svg\" xmlns:xlink=\"http://www.w3.org/1999/xlink\">\n",
       "<g id=\"graph0\" class=\"graph\" transform=\"scale(1 1) rotate(0) translate(4 234)\">\n",
       "<title>%3</title>\n",
       "<polygon fill=\"white\" stroke=\"transparent\" points=\"-4,4 -4,-234 656.24,-234 656.24,4 -4,4\"/>\n",
       "<g id=\"clust1\" class=\"cluster\">\n",
       "<title>cluster_gammas</title>\n",
       "<polygon fill=\"none\" stroke=\"black\" points=\"240.75,-91 240.75,-166 346.75,-166 346.75,-91 240.75,-91\"/>\n",
       "<text text-anchor=\"middle\" x=\"308.25\" y=\"-98.8\" font-family=\"Times,serif\" font-size=\"14.00\">gammas</text>\n",
       "</g>\n",
       "<g id=\"clust2\" class=\"cluster\">\n",
       "<title>cluster_thetas</title>\n",
       "<polygon fill=\"none\" stroke=\"black\" points=\"446.75,-91 446.75,-166 532.75,-166 532.75,-91 446.75,-91\"/>\n",
       "<text text-anchor=\"middle\" x=\"501.75\" y=\"-98.8\" font-family=\"Times,serif\" font-size=\"14.00\">thetas</text>\n",
       "</g>\n",
       "<g id=\"clust3\" class=\"cluster\">\n",
       "<title>cluster_bs</title>\n",
       "<polygon fill=\"none\" stroke=\"black\" points=\"81.75,-91 81.75,-166 151.75,-166 151.75,-91 81.75,-91\"/>\n",
       "<text text-anchor=\"middle\" x=\"135.25\" y=\"-98.8\" font-family=\"Times,serif\" font-size=\"14.00\">bs</text>\n",
       "</g>\n",
       "<g id=\"clust4\" class=\"cluster\">\n",
       "<title>cluster_observe_data</title>\n",
       "<polygon fill=\"none\" stroke=\"black\" points=\"238.75,-8 238.75,-83 349.75,-83 349.75,-8 238.75,-8\"/>\n",
       "<text text-anchor=\"middle\" x=\"294.25\" y=\"-15.8\" font-family=\"Times,serif\" font-size=\"14.00\">observe_data</text>\n",
       "</g>\n",
       "<!-- mu_b -->\n",
       "<g id=\"node1\" class=\"node\">\n",
       "<title>mu_b</title>\n",
       "<ellipse fill=\"white\" stroke=\"black\" cx=\"35.75\" cy=\"-212\" rx=\"36\" ry=\"18\"/>\n",
       "<text text-anchor=\"middle\" x=\"35.75\" y=\"-208.3\" font-family=\"Times,serif\" font-size=\"14.00\">mu_b</text>\n",
       "</g>\n",
       "<!-- b -->\n",
       "<g id=\"node9\" class=\"node\">\n",
       "<title>b</title>\n",
       "<ellipse fill=\"white\" stroke=\"black\" cx=\"116.75\" cy=\"-140\" rx=\"27\" ry=\"18\"/>\n",
       "<text text-anchor=\"middle\" x=\"116.75\" y=\"-136.3\" font-family=\"Times,serif\" font-size=\"14.00\">b</text>\n",
       "</g>\n",
       "<!-- mu_b&#45;&gt;b -->\n",
       "<g id=\"edge5\" class=\"edge\">\n",
       "<title>mu_b&#45;&gt;b</title>\n",
       "<path fill=\"none\" stroke=\"black\" d=\"M52.92,-196.15C64.69,-185.98 80.45,-172.37 93.36,-161.21\"/>\n",
       "<polygon fill=\"black\" stroke=\"black\" points=\"95.69,-163.82 100.97,-154.64 91.11,-158.53 95.69,-163.82\"/>\n",
       "</g>\n",
       "<!-- u_b -->\n",
       "<g id=\"node2\" class=\"node\">\n",
       "<title>u_b</title>\n",
       "<ellipse fill=\"white\" stroke=\"black\" cx=\"116.75\" cy=\"-212\" rx=\"27\" ry=\"18\"/>\n",
       "<text text-anchor=\"middle\" x=\"116.75\" y=\"-208.3\" font-family=\"Times,serif\" font-size=\"14.00\">u_b</text>\n",
       "</g>\n",
       "<!-- u_b&#45;&gt;b -->\n",
       "<g id=\"edge6\" class=\"edge\">\n",
       "<title>u_b&#45;&gt;b</title>\n",
       "<path fill=\"none\" stroke=\"black\" d=\"M116.75,-193.7C116.75,-185.98 116.75,-176.71 116.75,-168.11\"/>\n",
       "<polygon fill=\"black\" stroke=\"black\" points=\"120.25,-168.1 116.75,-158.1 113.25,-168.1 120.25,-168.1\"/>\n",
       "</g>\n",
       "<!-- mu_theta -->\n",
       "<g id=\"node3\" class=\"node\">\n",
       "<title>mu_theta</title>\n",
       "<ellipse fill=\"white\" stroke=\"black\" cx=\"489.75\" cy=\"-212\" rx=\"53.89\" ry=\"18\"/>\n",
       "<text text-anchor=\"middle\" x=\"489.75\" y=\"-208.3\" font-family=\"Times,serif\" font-size=\"14.00\">mu_theta</text>\n",
       "</g>\n",
       "<!-- theta -->\n",
       "<g id=\"node8\" class=\"node\">\n",
       "<title>theta</title>\n",
       "<ellipse fill=\"white\" stroke=\"black\" cx=\"489.75\" cy=\"-140\" rx=\"35.19\" ry=\"18\"/>\n",
       "<text text-anchor=\"middle\" x=\"489.75\" y=\"-136.3\" font-family=\"Times,serif\" font-size=\"14.00\">theta</text>\n",
       "</g>\n",
       "<!-- mu_theta&#45;&gt;theta -->\n",
       "<g id=\"edge3\" class=\"edge\">\n",
       "<title>mu_theta&#45;&gt;theta</title>\n",
       "<path fill=\"none\" stroke=\"black\" d=\"M489.75,-193.7C489.75,-185.98 489.75,-176.71 489.75,-168.11\"/>\n",
       "<polygon fill=\"black\" stroke=\"black\" points=\"493.25,-168.1 489.75,-158.1 486.25,-168.1 493.25,-168.1\"/>\n",
       "</g>\n",
       "<!-- u_theta -->\n",
       "<g id=\"node4\" class=\"node\">\n",
       "<title>u_theta</title>\n",
       "<ellipse fill=\"white\" stroke=\"black\" cx=\"606.75\" cy=\"-212\" rx=\"45.49\" ry=\"18\"/>\n",
       "<text text-anchor=\"middle\" x=\"606.75\" y=\"-208.3\" font-family=\"Times,serif\" font-size=\"14.00\">u_theta</text>\n",
       "</g>\n",
       "<!-- u_theta&#45;&gt;theta -->\n",
       "<g id=\"edge4\" class=\"edge\">\n",
       "<title>u_theta&#45;&gt;theta</title>\n",
       "<path fill=\"none\" stroke=\"black\" d=\"M582.79,-196.67C564.78,-185.89 539.97,-171.05 520.5,-159.4\"/>\n",
       "<polygon fill=\"black\" stroke=\"black\" points=\"522.08,-156.26 511.7,-154.13 518.48,-162.27 522.08,-156.26\"/>\n",
       "</g>\n",
       "<!-- mu_gamma -->\n",
       "<g id=\"node5\" class=\"node\">\n",
       "<title>mu_gamma</title>\n",
       "<ellipse fill=\"white\" stroke=\"black\" cx=\"225.75\" cy=\"-212\" rx=\"63.89\" ry=\"18\"/>\n",
       "<text text-anchor=\"middle\" x=\"225.75\" y=\"-208.3\" font-family=\"Times,serif\" font-size=\"14.00\">mu_gamma</text>\n",
       "</g>\n",
       "<!-- gamma -->\n",
       "<g id=\"node7\" class=\"node\">\n",
       "<title>gamma</title>\n",
       "<ellipse fill=\"white\" stroke=\"black\" cx=\"293.75\" cy=\"-140\" rx=\"44.69\" ry=\"18\"/>\n",
       "<text text-anchor=\"middle\" x=\"293.75\" y=\"-136.3\" font-family=\"Times,serif\" font-size=\"14.00\">gamma</text>\n",
       "</g>\n",
       "<!-- mu_gamma&#45;&gt;gamma -->\n",
       "<g id=\"edge2\" class=\"edge\">\n",
       "<title>mu_gamma&#45;&gt;gamma</title>\n",
       "<path fill=\"none\" stroke=\"black\" d=\"M241.86,-194.41C250.62,-185.39 261.6,-174.09 271.2,-164.21\"/>\n",
       "<polygon fill=\"black\" stroke=\"black\" points=\"273.76,-166.6 278.22,-156.99 268.74,-161.72 273.76,-166.6\"/>\n",
       "</g>\n",
       "<!-- u_gamma -->\n",
       "<g id=\"node6\" class=\"node\">\n",
       "<title>u_gamma</title>\n",
       "<ellipse fill=\"white\" stroke=\"black\" cx=\"362.75\" cy=\"-212\" rx=\"55.49\" ry=\"18\"/>\n",
       "<text text-anchor=\"middle\" x=\"362.75\" y=\"-208.3\" font-family=\"Times,serif\" font-size=\"14.00\">u_gamma</text>\n",
       "</g>\n",
       "<!-- u_gamma&#45;&gt;gamma -->\n",
       "<g id=\"edge1\" class=\"edge\">\n",
       "<title>u_gamma&#45;&gt;gamma</title>\n",
       "<path fill=\"none\" stroke=\"black\" d=\"M346.74,-194.76C337.86,-185.75 326.66,-174.39 316.84,-164.43\"/>\n",
       "<polygon fill=\"black\" stroke=\"black\" points=\"319.18,-161.81 309.66,-157.15 314.19,-166.73 319.18,-161.81\"/>\n",
       "</g>\n",
       "<!-- obs -->\n",
       "<g id=\"node10\" class=\"node\">\n",
       "<title>obs</title>\n",
       "<ellipse fill=\"gray\" stroke=\"black\" cx=\"293.75\" cy=\"-57\" rx=\"27\" ry=\"18\"/>\n",
       "<text text-anchor=\"middle\" x=\"293.75\" y=\"-53.3\" font-family=\"Times,serif\" font-size=\"14.00\">obs</text>\n",
       "</g>\n",
       "<!-- gamma&#45;&gt;obs -->\n",
       "<g id=\"edge8\" class=\"edge\">\n",
       "<title>gamma&#45;&gt;obs</title>\n",
       "<path fill=\"none\" stroke=\"black\" d=\"M293.75,-121.82C293.75,-111.19 293.75,-97.31 293.75,-85.2\"/>\n",
       "<polygon fill=\"black\" stroke=\"black\" points=\"297.25,-85.15 293.75,-75.15 290.25,-85.15 297.25,-85.15\"/>\n",
       "</g>\n",
       "<!-- theta&#45;&gt;obs -->\n",
       "<g id=\"edge9\" class=\"edge\">\n",
       "<title>theta&#45;&gt;obs</title>\n",
       "<path fill=\"none\" stroke=\"black\" d=\"M463.31,-128.08C427.63,-113.33 364.12,-87.08 325.77,-71.23\"/>\n",
       "<polygon fill=\"black\" stroke=\"black\" points=\"326.71,-67.83 316.13,-67.25 324.03,-74.3 326.71,-67.83\"/>\n",
       "</g>\n",
       "<!-- b&#45;&gt;obs -->\n",
       "<g id=\"edge7\" class=\"edge\">\n",
       "<title>b&#45;&gt;obs</title>\n",
       "<path fill=\"none\" stroke=\"black\" d=\"M138.45,-129.07C169.59,-114.82 227.09,-88.5 262.72,-72.2\"/>\n",
       "<polygon fill=\"black\" stroke=\"black\" points=\"264.51,-75.23 272.14,-67.89 261.59,-68.87 264.51,-75.23\"/>\n",
       "</g>\n",
       "</g>\n",
       "</svg>\n"
      ],
      "text/plain": [
       "<graphviz.graphs.Digraph at 0x7f1dcb387b90>"
      ]
     },
     "execution_count": 23,
     "metadata": {},
     "output_type": "execute_result"
    }
   ],
   "source": [
    "import pyro\n",
    "\n",
    "pyro.render_model(trainer._pyro_model, model_args=(\n",
    "    torch.zeros(1000, dtype=torch.long, device='cuda'),\n",
    "    torch.zeros(1000, dtype=torch.long, device='cuda'),\n",
    "    torch.zeros(1000, dtype=torch.float, device='cuda'),\n",
    "))"
   ]
  },
  {
   "cell_type": "code",
   "execution_count": 13,
   "metadata": {},
   "outputs": [
    {
     "name": "stdout",
     "output_type": "stream",
     "text": [
      "subject_8 Real Skill -2.0992039470170196 Inferred Skill -4.6167683601379395 Acc 0.299\n",
      "subject_0 Real Skill -1.1475070994498333 Inferred Skill -0.4494936466217041 Acc 0.381\n",
      "subject_9 Real Skill -0.820635677327914 Inferred Skill 0.22900916635990143 Acc 0.417\n",
      "subject_3 Real Skill 0.1286691849779622 Inferred Skill 1.454652190208435 Acc 0.517\n",
      "subject_5 Real Skill 0.4896205821266699 Inferred Skill 1.7657090425491333 Acc 0.543\n",
      "subject_2 Real Skill 0.6767643123720228 Inferred Skill 1.977298617362976 Acc 0.582\n",
      "subject_6 Real Skill 0.7634125176672466 Inferred Skill 1.9012914896011353 Acc 0.573\n",
      "subject_4 Real Skill 1.768818348571382 Inferred Skill 4.846320629119873 Acc 0.675\n",
      "subject_1 Real Skill 2.925906218662666 Inferred Skill 7.383442401885986 Acc 0.79\n",
      "subject_7 Real Skill 3.6667097508179456 Inferred Skill 12.50934886932373 Acc 0.86\n"
     ]
    }
   ],
   "source": [
    "# Next we can compare: Actual skill, inferred skill, and accuracy\n",
    "for subject, skill, acc in sorted(list(zip(subjects, trainer.last_params['ability'], score_by_subject.values())), key=lambda v: v[0].skill):\n",
    "    print(subject.subject_id, \"Real Skill\", subject.skill, \"Inferred Skill\", skill, \"Acc\", acc)"
   ]
  },
  {
   "cell_type": "code",
   "execution_count": 15,
   "metadata": {},
   "outputs": [
    {
     "name": "stdout",
     "output_type": "stream",
     "text": [
      "-3.8217550888270777 -3.5826640129089355 2.1924033164978027\n",
      "-3.69833877591533 -9.665823936462402 0.6793660521507263\n",
      "-3.4538712920910974 -9.909111022949219 -0.14002259075641632\n",
      "-3.4031693619313703 -9.54269027709961 0.08277589827775955\n",
      "-3.3821151826150695 -3.430758476257324 -1.6421877145767212\n",
      "-3.3417983185345825 -10.073620796203613 0.8655638694763184\n",
      "-3.2896540965974825 -9.245588302612305 1.2930814027786255\n",
      "-3.1218402625983757 -4.012744426727295 0.9936566948890686\n",
      "-2.0961132414719534 -6.080544948577881 -1.4029154777526855\n",
      "-0.5853620860445243 0.8478484749794006 0.3265891969203949\n",
      "0.1524570163147061 1.7222025394439697 -0.3942753076553345\n",
      "0.36958442550909076 0.6623020768165588 0.25205308198928833\n",
      "0.5101799299201764 4.00017786026001 -2.9407012462615967\n",
      "0.9451040264956427 8.412286758422852 -2.2563652992248535\n",
      "1.1586789766540804 1.7541354894638062 -0.1581266075372696\n",
      "1.7491729978605326 7.629848957061768 -1.6286585330963135\n",
      "1.8610770213746637 7.323568820953369 -0.9194203019142151\n",
      "1.9117725888958557 7.841511249542236 -1.87253999710083\n",
      "2.0980146884621664 -1.5621899366378784 -7.525204658508301\n",
      "2.9071880117471194 8.110783576965332 0.5085978507995605\n"
     ]
    }
   ],
   "source": [
    "for item, diff, disc in sorted(list(zip(items, trainer.last_params[\"diff\"], trainer.last_params['disc']))[:20], key=lambda v: v[0].difficulty):\n",
    "    print(item.difficulty, diff, disc)"
   ]
  },
  {
   "cell_type": "code",
   "execution_count": null,
   "metadata": {},
   "outputs": [],
   "source": []
  }
 ],
 "metadata": {
  "kernelspec": {
   "display_name": "Python 3",
   "language": "python",
   "name": "python3"
  },
  "language_info": {
   "codemirror_mode": {
    "name": "ipython",
    "version": 3
   },
   "file_extension": ".py",
   "mimetype": "text/x-python",
   "name": "python",
   "nbconvert_exporter": "python",
   "pygments_lexer": "ipython3",
   "version": "3.11.8"
  }
 },
 "nbformat": 4,
 "nbformat_minor": 2
}
